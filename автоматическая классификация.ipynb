{
  "nbformat": 4,
  "nbformat_minor": 0,
  "metadata": {
    "colab": {
      "provenance": [],
      "authorship_tag": "ABX9TyMeA5ymXapEQ1hgwSpvJmhX",
      "include_colab_link": true
    },
    "kernelspec": {
      "name": "python3",
      "display_name": "Python 3"
    },
    "language_info": {
      "name": "python"
    }
  },
  "cells": [
    {
      "cell_type": "markdown",
      "metadata": {
        "id": "view-in-github",
        "colab_type": "text"
      },
      "source": [
        "<a href=\"https://colab.research.google.com/github/ajdivotf/systems-theory/blob/main/%D0%B0%D0%B2%D1%82%D0%BE%D0%BC%D0%B0%D1%82%D0%B8%D1%87%D0%B5%D1%81%D0%BA%D0%B0%D1%8F%20%D0%BA%D0%BB%D0%B0%D1%81%D1%81%D0%B8%D1%84%D0%B8%D0%BA%D0%B0%D1%86%D0%B8%D1%8F.ipynb\" target=\"_parent\"><img src=\"https://colab.research.google.com/assets/colab-badge.svg\" alt=\"Open In Colab\"/></a>"
      ]
    },
    {
      "cell_type": "code",
      "source": [
        "#константы\n",
        "\n",
        "highlighted_indicator = 'X5' #выделенный показатель\n",
        "number_of_classes = 3 #количество классов\n",
        "class_names = ['A', 'B', 'C']"
      ],
      "metadata": {
        "id": "eJYqmFtGYQ31"
      },
      "execution_count": 4,
      "outputs": []
    },
    {
      "cell_type": "code",
      "source": [
        "#загружаем файл с данными\n",
        "from google.colab import files\n",
        "uploaded = files.upload()\n",
        "\n",
        "#получаем название файла\n",
        "for key in uploaded.keys():\n",
        "    filename = key\n",
        "\n",
        "#считываем как csv\n",
        "import pandas as pd\n",
        "df=pd.read_csv(filename)\n",
        "\n",
        "print(df)\n",
        "\n",
        "#получаем названия столбцов = вершин графа\n",
        "col_keys = list()\n",
        "for i in df:\n",
        "  col_keys.append(i)"
      ],
      "metadata": {
        "colab": {
          "base_uri": "https://localhost:8080/",
          "height": 246
        },
        "id": "s1bbaQBVYfeZ",
        "outputId": "a25dc901-32a2-4b65-f08a-cf3dd3420a8f"
      },
      "execution_count": 5,
      "outputs": [
        {
          "output_type": "display_data",
          "data": {
            "text/plain": [
              "<IPython.core.display.HTML object>"
            ],
            "text/html": [
              "\n",
              "     <input type=\"file\" id=\"files-6d55c1eb-47bd-4283-bdf3-0ed17a1085ed\" name=\"files[]\" multiple disabled\n",
              "        style=\"border:none\" />\n",
              "     <output id=\"result-6d55c1eb-47bd-4283-bdf3-0ed17a1085ed\">\n",
              "      Upload widget is only available when the cell has been executed in the\n",
              "      current browser session. Please rerun this cell to enable.\n",
              "      </output>\n",
              "      <script>// Copyright 2017 Google LLC\n",
              "//\n",
              "// Licensed under the Apache License, Version 2.0 (the \"License\");\n",
              "// you may not use this file except in compliance with the License.\n",
              "// You may obtain a copy of the License at\n",
              "//\n",
              "//      http://www.apache.org/licenses/LICENSE-2.0\n",
              "//\n",
              "// Unless required by applicable law or agreed to in writing, software\n",
              "// distributed under the License is distributed on an \"AS IS\" BASIS,\n",
              "// WITHOUT WARRANTIES OR CONDITIONS OF ANY KIND, either express or implied.\n",
              "// See the License for the specific language governing permissions and\n",
              "// limitations under the License.\n",
              "\n",
              "/**\n",
              " * @fileoverview Helpers for google.colab Python module.\n",
              " */\n",
              "(function(scope) {\n",
              "function span(text, styleAttributes = {}) {\n",
              "  const element = document.createElement('span');\n",
              "  element.textContent = text;\n",
              "  for (const key of Object.keys(styleAttributes)) {\n",
              "    element.style[key] = styleAttributes[key];\n",
              "  }\n",
              "  return element;\n",
              "}\n",
              "\n",
              "// Max number of bytes which will be uploaded at a time.\n",
              "const MAX_PAYLOAD_SIZE = 100 * 1024;\n",
              "\n",
              "function _uploadFiles(inputId, outputId) {\n",
              "  const steps = uploadFilesStep(inputId, outputId);\n",
              "  const outputElement = document.getElementById(outputId);\n",
              "  // Cache steps on the outputElement to make it available for the next call\n",
              "  // to uploadFilesContinue from Python.\n",
              "  outputElement.steps = steps;\n",
              "\n",
              "  return _uploadFilesContinue(outputId);\n",
              "}\n",
              "\n",
              "// This is roughly an async generator (not supported in the browser yet),\n",
              "// where there are multiple asynchronous steps and the Python side is going\n",
              "// to poll for completion of each step.\n",
              "// This uses a Promise to block the python side on completion of each step,\n",
              "// then passes the result of the previous step as the input to the next step.\n",
              "function _uploadFilesContinue(outputId) {\n",
              "  const outputElement = document.getElementById(outputId);\n",
              "  const steps = outputElement.steps;\n",
              "\n",
              "  const next = steps.next(outputElement.lastPromiseValue);\n",
              "  return Promise.resolve(next.value.promise).then((value) => {\n",
              "    // Cache the last promise value to make it available to the next\n",
              "    // step of the generator.\n",
              "    outputElement.lastPromiseValue = value;\n",
              "    return next.value.response;\n",
              "  });\n",
              "}\n",
              "\n",
              "/**\n",
              " * Generator function which is called between each async step of the upload\n",
              " * process.\n",
              " * @param {string} inputId Element ID of the input file picker element.\n",
              " * @param {string} outputId Element ID of the output display.\n",
              " * @return {!Iterable<!Object>} Iterable of next steps.\n",
              " */\n",
              "function* uploadFilesStep(inputId, outputId) {\n",
              "  const inputElement = document.getElementById(inputId);\n",
              "  inputElement.disabled = false;\n",
              "\n",
              "  const outputElement = document.getElementById(outputId);\n",
              "  outputElement.innerHTML = '';\n",
              "\n",
              "  const pickedPromise = new Promise((resolve) => {\n",
              "    inputElement.addEventListener('change', (e) => {\n",
              "      resolve(e.target.files);\n",
              "    });\n",
              "  });\n",
              "\n",
              "  const cancel = document.createElement('button');\n",
              "  inputElement.parentElement.appendChild(cancel);\n",
              "  cancel.textContent = 'Cancel upload';\n",
              "  const cancelPromise = new Promise((resolve) => {\n",
              "    cancel.onclick = () => {\n",
              "      resolve(null);\n",
              "    };\n",
              "  });\n",
              "\n",
              "  // Wait for the user to pick the files.\n",
              "  const files = yield {\n",
              "    promise: Promise.race([pickedPromise, cancelPromise]),\n",
              "    response: {\n",
              "      action: 'starting',\n",
              "    }\n",
              "  };\n",
              "\n",
              "  cancel.remove();\n",
              "\n",
              "  // Disable the input element since further picks are not allowed.\n",
              "  inputElement.disabled = true;\n",
              "\n",
              "  if (!files) {\n",
              "    return {\n",
              "      response: {\n",
              "        action: 'complete',\n",
              "      }\n",
              "    };\n",
              "  }\n",
              "\n",
              "  for (const file of files) {\n",
              "    const li = document.createElement('li');\n",
              "    li.append(span(file.name, {fontWeight: 'bold'}));\n",
              "    li.append(span(\n",
              "        `(${file.type || 'n/a'}) - ${file.size} bytes, ` +\n",
              "        `last modified: ${\n",
              "            file.lastModifiedDate ? file.lastModifiedDate.toLocaleDateString() :\n",
              "                                    'n/a'} - `));\n",
              "    const percent = span('0% done');\n",
              "    li.appendChild(percent);\n",
              "\n",
              "    outputElement.appendChild(li);\n",
              "\n",
              "    const fileDataPromise = new Promise((resolve) => {\n",
              "      const reader = new FileReader();\n",
              "      reader.onload = (e) => {\n",
              "        resolve(e.target.result);\n",
              "      };\n",
              "      reader.readAsArrayBuffer(file);\n",
              "    });\n",
              "    // Wait for the data to be ready.\n",
              "    let fileData = yield {\n",
              "      promise: fileDataPromise,\n",
              "      response: {\n",
              "        action: 'continue',\n",
              "      }\n",
              "    };\n",
              "\n",
              "    // Use a chunked sending to avoid message size limits. See b/62115660.\n",
              "    let position = 0;\n",
              "    do {\n",
              "      const length = Math.min(fileData.byteLength - position, MAX_PAYLOAD_SIZE);\n",
              "      const chunk = new Uint8Array(fileData, position, length);\n",
              "      position += length;\n",
              "\n",
              "      const base64 = btoa(String.fromCharCode.apply(null, chunk));\n",
              "      yield {\n",
              "        response: {\n",
              "          action: 'append',\n",
              "          file: file.name,\n",
              "          data: base64,\n",
              "        },\n",
              "      };\n",
              "\n",
              "      let percentDone = fileData.byteLength === 0 ?\n",
              "          100 :\n",
              "          Math.round((position / fileData.byteLength) * 100);\n",
              "      percent.textContent = `${percentDone}% done`;\n",
              "\n",
              "    } while (position < fileData.byteLength);\n",
              "  }\n",
              "\n",
              "  // All done.\n",
              "  yield {\n",
              "    response: {\n",
              "      action: 'complete',\n",
              "    }\n",
              "  };\n",
              "}\n",
              "\n",
              "scope.google = scope.google || {};\n",
              "scope.google.colab = scope.google.colab || {};\n",
              "scope.google.colab._files = {\n",
              "  _uploadFiles,\n",
              "  _uploadFilesContinue,\n",
              "};\n",
              "})(self);\n",
              "</script> "
            ]
          },
          "metadata": {}
        },
        {
          "output_type": "stream",
          "name": "stdout",
          "text": [
            "Saving априорные данные автоматическая класс.txt to априорные данные автоматическая класс (1).txt\n",
            "   X1  X2  X3  X4  X5\n",
            "0   9   6   7   2  10\n",
            "1   6   7   2   3  40\n",
            "2   3   2   3   7  80\n",
            "3   8   5   9   2  20\n",
            "4   4   4   6   9  80\n",
            "5  10   4   8   2  10\n",
            "6   7   9   3   6  50\n",
            "7   5   8   1   6  40\n",
            "8   5   3   6   8  90\n"
          ]
        }
      ]
    },
    {
      "cell_type": "code",
      "source": [
        "classes = list()\n",
        "if highlighted_indicator in col_keys:\n",
        "  h_i_values = df[highlighted_indicator].to_list()\n",
        "  if number_of_classes > 0:\n",
        "    h = (max(h_i_values) - min(h_i_values)) / number_of_classes\n",
        "    for i in range(1, number_of_classes + 1):\n",
        "      classes.append([j + 1 for j, val in enumerate(h_i_values) if val <= min(h_i_values) + i * h and val >= min(h_i_values) + (i - 1) * h])\n",
        "  else:\n",
        "    print('Укажите количество классов')\n",
        "else:\n",
        "  print('Выделенного показателя нет в списке')\n",
        "print(classes)"
      ],
      "metadata": {
        "colab": {
          "base_uri": "https://localhost:8080/"
        },
        "id": "0BAf-yY4Y6jZ",
        "outputId": "96802395-0bba-48ad-eab1-d6aeeb664590"
      },
      "execution_count": 6,
      "outputs": [
        {
          "output_type": "stream",
          "name": "stdout",
          "text": [
            "[[1, 4, 6], [2, 7, 8], [3, 5, 9]]\n"
          ]
        }
      ]
    },
    {
      "cell_type": "code",
      "source": [
        "center_coords = list()\n",
        "aver = 0\n",
        "count = 0\n",
        "for i in range(number_of_classes):\n",
        "  center_coords.append([])\n",
        "for i in col_keys:\n",
        "  if i != highlighted_indicator:\n",
        "    for k in classes:\n",
        "      for l in k:\n",
        "        aver += df[i][l - 1]\n",
        "      aver /= number_of_classes\n",
        "      aver = int(aver)\n",
        "      center_coords[count % number_of_classes].append(aver)\n",
        "      count += 1 \n",
        "      aver = 0\n",
        "\n",
        "print(center_coords)\n"
      ],
      "metadata": {
        "colab": {
          "base_uri": "https://localhost:8080/"
        },
        "id": "6FKjMyFZdGPx",
        "outputId": "d24aaaeb-8f0f-4f67-bcef-858a8e0b481d"
      },
      "execution_count": 7,
      "outputs": [
        {
          "output_type": "stream",
          "name": "stdout",
          "text": [
            "[[9, 5, 8, 2], [6, 8, 2, 5], [4, 3, 5, 8]]\n"
          ]
        }
      ]
    },
    {
      "cell_type": "code",
      "source": [
        "#загружаем файл с апостериорными данными\n",
        "from google.colab import files\n",
        "uploaded = files.upload()\n",
        "\n",
        "#получаем название файла\n",
        "for key in uploaded.keys():\n",
        "    filename = key\n",
        "\n",
        "#считываем как csv\n",
        "import pandas as pd\n",
        "posterior_data=pd.read_csv(filename)\n",
        "\n",
        "print(posterior_data)\n",
        "\n",
        "#получаем названия столбцов = вершин графа\n",
        "posterior_col_keys = list()\n",
        "for i in posterior_data:\n",
        "  posterior_col_keys.append(i)"
      ],
      "metadata": {
        "colab": {
          "base_uri": "https://localhost:8080/",
          "height": 142
        },
        "id": "RfK7q-gKjgWs",
        "outputId": "d9248a86-2cea-47cb-95d2-e0a816bff5b7"
      },
      "execution_count": 8,
      "outputs": [
        {
          "output_type": "display_data",
          "data": {
            "text/plain": [
              "<IPython.core.display.HTML object>"
            ],
            "text/html": [
              "\n",
              "     <input type=\"file\" id=\"files-e4b8437b-6943-4ae7-aa6b-6201d2a509a7\" name=\"files[]\" multiple disabled\n",
              "        style=\"border:none\" />\n",
              "     <output id=\"result-e4b8437b-6943-4ae7-aa6b-6201d2a509a7\">\n",
              "      Upload widget is only available when the cell has been executed in the\n",
              "      current browser session. Please rerun this cell to enable.\n",
              "      </output>\n",
              "      <script>// Copyright 2017 Google LLC\n",
              "//\n",
              "// Licensed under the Apache License, Version 2.0 (the \"License\");\n",
              "// you may not use this file except in compliance with the License.\n",
              "// You may obtain a copy of the License at\n",
              "//\n",
              "//      http://www.apache.org/licenses/LICENSE-2.0\n",
              "//\n",
              "// Unless required by applicable law or agreed to in writing, software\n",
              "// distributed under the License is distributed on an \"AS IS\" BASIS,\n",
              "// WITHOUT WARRANTIES OR CONDITIONS OF ANY KIND, either express or implied.\n",
              "// See the License for the specific language governing permissions and\n",
              "// limitations under the License.\n",
              "\n",
              "/**\n",
              " * @fileoverview Helpers for google.colab Python module.\n",
              " */\n",
              "(function(scope) {\n",
              "function span(text, styleAttributes = {}) {\n",
              "  const element = document.createElement('span');\n",
              "  element.textContent = text;\n",
              "  for (const key of Object.keys(styleAttributes)) {\n",
              "    element.style[key] = styleAttributes[key];\n",
              "  }\n",
              "  return element;\n",
              "}\n",
              "\n",
              "// Max number of bytes which will be uploaded at a time.\n",
              "const MAX_PAYLOAD_SIZE = 100 * 1024;\n",
              "\n",
              "function _uploadFiles(inputId, outputId) {\n",
              "  const steps = uploadFilesStep(inputId, outputId);\n",
              "  const outputElement = document.getElementById(outputId);\n",
              "  // Cache steps on the outputElement to make it available for the next call\n",
              "  // to uploadFilesContinue from Python.\n",
              "  outputElement.steps = steps;\n",
              "\n",
              "  return _uploadFilesContinue(outputId);\n",
              "}\n",
              "\n",
              "// This is roughly an async generator (not supported in the browser yet),\n",
              "// where there are multiple asynchronous steps and the Python side is going\n",
              "// to poll for completion of each step.\n",
              "// This uses a Promise to block the python side on completion of each step,\n",
              "// then passes the result of the previous step as the input to the next step.\n",
              "function _uploadFilesContinue(outputId) {\n",
              "  const outputElement = document.getElementById(outputId);\n",
              "  const steps = outputElement.steps;\n",
              "\n",
              "  const next = steps.next(outputElement.lastPromiseValue);\n",
              "  return Promise.resolve(next.value.promise).then((value) => {\n",
              "    // Cache the last promise value to make it available to the next\n",
              "    // step of the generator.\n",
              "    outputElement.lastPromiseValue = value;\n",
              "    return next.value.response;\n",
              "  });\n",
              "}\n",
              "\n",
              "/**\n",
              " * Generator function which is called between each async step of the upload\n",
              " * process.\n",
              " * @param {string} inputId Element ID of the input file picker element.\n",
              " * @param {string} outputId Element ID of the output display.\n",
              " * @return {!Iterable<!Object>} Iterable of next steps.\n",
              " */\n",
              "function* uploadFilesStep(inputId, outputId) {\n",
              "  const inputElement = document.getElementById(inputId);\n",
              "  inputElement.disabled = false;\n",
              "\n",
              "  const outputElement = document.getElementById(outputId);\n",
              "  outputElement.innerHTML = '';\n",
              "\n",
              "  const pickedPromise = new Promise((resolve) => {\n",
              "    inputElement.addEventListener('change', (e) => {\n",
              "      resolve(e.target.files);\n",
              "    });\n",
              "  });\n",
              "\n",
              "  const cancel = document.createElement('button');\n",
              "  inputElement.parentElement.appendChild(cancel);\n",
              "  cancel.textContent = 'Cancel upload';\n",
              "  const cancelPromise = new Promise((resolve) => {\n",
              "    cancel.onclick = () => {\n",
              "      resolve(null);\n",
              "    };\n",
              "  });\n",
              "\n",
              "  // Wait for the user to pick the files.\n",
              "  const files = yield {\n",
              "    promise: Promise.race([pickedPromise, cancelPromise]),\n",
              "    response: {\n",
              "      action: 'starting',\n",
              "    }\n",
              "  };\n",
              "\n",
              "  cancel.remove();\n",
              "\n",
              "  // Disable the input element since further picks are not allowed.\n",
              "  inputElement.disabled = true;\n",
              "\n",
              "  if (!files) {\n",
              "    return {\n",
              "      response: {\n",
              "        action: 'complete',\n",
              "      }\n",
              "    };\n",
              "  }\n",
              "\n",
              "  for (const file of files) {\n",
              "    const li = document.createElement('li');\n",
              "    li.append(span(file.name, {fontWeight: 'bold'}));\n",
              "    li.append(span(\n",
              "        `(${file.type || 'n/a'}) - ${file.size} bytes, ` +\n",
              "        `last modified: ${\n",
              "            file.lastModifiedDate ? file.lastModifiedDate.toLocaleDateString() :\n",
              "                                    'n/a'} - `));\n",
              "    const percent = span('0% done');\n",
              "    li.appendChild(percent);\n",
              "\n",
              "    outputElement.appendChild(li);\n",
              "\n",
              "    const fileDataPromise = new Promise((resolve) => {\n",
              "      const reader = new FileReader();\n",
              "      reader.onload = (e) => {\n",
              "        resolve(e.target.result);\n",
              "      };\n",
              "      reader.readAsArrayBuffer(file);\n",
              "    });\n",
              "    // Wait for the data to be ready.\n",
              "    let fileData = yield {\n",
              "      promise: fileDataPromise,\n",
              "      response: {\n",
              "        action: 'continue',\n",
              "      }\n",
              "    };\n",
              "\n",
              "    // Use a chunked sending to avoid message size limits. See b/62115660.\n",
              "    let position = 0;\n",
              "    do {\n",
              "      const length = Math.min(fileData.byteLength - position, MAX_PAYLOAD_SIZE);\n",
              "      const chunk = new Uint8Array(fileData, position, length);\n",
              "      position += length;\n",
              "\n",
              "      const base64 = btoa(String.fromCharCode.apply(null, chunk));\n",
              "      yield {\n",
              "        response: {\n",
              "          action: 'append',\n",
              "          file: file.name,\n",
              "          data: base64,\n",
              "        },\n",
              "      };\n",
              "\n",
              "      let percentDone = fileData.byteLength === 0 ?\n",
              "          100 :\n",
              "          Math.round((position / fileData.byteLength) * 100);\n",
              "      percent.textContent = `${percentDone}% done`;\n",
              "\n",
              "    } while (position < fileData.byteLength);\n",
              "  }\n",
              "\n",
              "  // All done.\n",
              "  yield {\n",
              "    response: {\n",
              "      action: 'complete',\n",
              "    }\n",
              "  };\n",
              "}\n",
              "\n",
              "scope.google = scope.google || {};\n",
              "scope.google.colab = scope.google.colab || {};\n",
              "scope.google.colab._files = {\n",
              "  _uploadFiles,\n",
              "  _uploadFilesContinue,\n",
              "};\n",
              "})(self);\n",
              "</script> "
            ]
          },
          "metadata": {}
        },
        {
          "output_type": "stream",
          "name": "stdout",
          "text": [
            "Saving апостериорные данные автоматич клас.txt to апостериорные данные автоматич клас.txt\n",
            "   X1  X2  X3  X4\n",
            "0   4   4   4   9\n",
            "1   8   8   1   5\n",
            "2   8   4   7   3\n"
          ]
        }
      ]
    },
    {
      "cell_type": "code",
      "source": [
        "#получаем названия строк\n",
        "data_top = posterior_data.head()\n",
        "rows = list()\n",
        "for row in data_top.index:\n",
        "    rows.append(row)\n",
        "arr = list()"
      ],
      "metadata": {
        "id": "DzIzqUanWeIs"
      },
      "execution_count": 9,
      "outputs": []
    },
    {
      "cell_type": "markdown",
      "source": [
        "Классификация от объектов до центров тяжести классов"
      ],
      "metadata": {
        "id": "y6oxGzbaal7h"
      }
    },
    {
      "cell_type": "code",
      "source": [
        "arr = list()\n",
        "mas = list()\n",
        "indices = list()\n",
        "for j in range(len(posterior_data)):\n",
        "  for i in posterior_col_keys:\n",
        "    arr.append(posterior_data[i][j])\n",
        "  for k in range(len(center_coords)):\n",
        "    mas.append(sum(list(map(lambda x, y: pow(x - y, 2), arr, center_coords[k]))))\n",
        "  indices.append([index for index, val in enumerate(mas) if val == min(mas)])\n",
        "  mas = list()\n",
        "  arr = list()\n",
        "\n",
        "count = 0\n",
        "if class_names:\n",
        "  for i in indices:\n",
        "    print(rows[count] + 1, '∈', class_names[i[0]], end=\", \")\n",
        "    count += 1\n",
        "else:\n",
        "  print(indices)"
      ],
      "metadata": {
        "colab": {
          "base_uri": "https://localhost:8080/"
        },
        "id": "FhNcJfRujt6f",
        "outputId": "5412a587-827d-4681-9776-98b8439d7034"
      },
      "execution_count": 10,
      "outputs": [
        {
          "output_type": "stream",
          "name": "stdout",
          "text": [
            "1 ∈ C, 2 ∈ B, 3 ∈ A, "
          ]
        }
      ]
    },
    {
      "cell_type": "markdown",
      "source": [
        "Классификация от объектов до центров тяжести классов с учетом весовых коэффициентов"
      ],
      "metadata": {
        "id": "jlL_o8vAabXT"
      }
    },
    {
      "cell_type": "code",
      "source": [
        "#загружаем файл с весовыми коэффициентами\n",
        "from google.colab import files\n",
        "uploaded = files.upload()\n",
        "\n",
        "#получаем название файла\n",
        "for key in uploaded.keys():\n",
        "    filename = key\n",
        "\n",
        "#считываем как csv\n",
        "import pandas as pd\n",
        "weight_coefficients=pd.read_csv(filename)\n",
        "\n",
        "print(weight_coefficients)\n",
        "\n",
        "#получаем названия столбцов = вершин графа\n",
        "weight_coefficients_keys = list()\n",
        "for i in weight_coefficients:\n",
        "  weight_coefficients_keys.append(i)"
      ],
      "metadata": {
        "colab": {
          "base_uri": "https://localhost:8080/",
          "height": 108
        },
        "id": "ZYDWh54bpqXv",
        "outputId": "60925232-b566-4e09-aef3-05b74051c6b9"
      },
      "execution_count": 11,
      "outputs": [
        {
          "output_type": "display_data",
          "data": {
            "text/plain": [
              "<IPython.core.display.HTML object>"
            ],
            "text/html": [
              "\n",
              "     <input type=\"file\" id=\"files-8b067421-16bb-465d-9711-644298aa5c5f\" name=\"files[]\" multiple disabled\n",
              "        style=\"border:none\" />\n",
              "     <output id=\"result-8b067421-16bb-465d-9711-644298aa5c5f\">\n",
              "      Upload widget is only available when the cell has been executed in the\n",
              "      current browser session. Please rerun this cell to enable.\n",
              "      </output>\n",
              "      <script>// Copyright 2017 Google LLC\n",
              "//\n",
              "// Licensed under the Apache License, Version 2.0 (the \"License\");\n",
              "// you may not use this file except in compliance with the License.\n",
              "// You may obtain a copy of the License at\n",
              "//\n",
              "//      http://www.apache.org/licenses/LICENSE-2.0\n",
              "//\n",
              "// Unless required by applicable law or agreed to in writing, software\n",
              "// distributed under the License is distributed on an \"AS IS\" BASIS,\n",
              "// WITHOUT WARRANTIES OR CONDITIONS OF ANY KIND, either express or implied.\n",
              "// See the License for the specific language governing permissions and\n",
              "// limitations under the License.\n",
              "\n",
              "/**\n",
              " * @fileoverview Helpers for google.colab Python module.\n",
              " */\n",
              "(function(scope) {\n",
              "function span(text, styleAttributes = {}) {\n",
              "  const element = document.createElement('span');\n",
              "  element.textContent = text;\n",
              "  for (const key of Object.keys(styleAttributes)) {\n",
              "    element.style[key] = styleAttributes[key];\n",
              "  }\n",
              "  return element;\n",
              "}\n",
              "\n",
              "// Max number of bytes which will be uploaded at a time.\n",
              "const MAX_PAYLOAD_SIZE = 100 * 1024;\n",
              "\n",
              "function _uploadFiles(inputId, outputId) {\n",
              "  const steps = uploadFilesStep(inputId, outputId);\n",
              "  const outputElement = document.getElementById(outputId);\n",
              "  // Cache steps on the outputElement to make it available for the next call\n",
              "  // to uploadFilesContinue from Python.\n",
              "  outputElement.steps = steps;\n",
              "\n",
              "  return _uploadFilesContinue(outputId);\n",
              "}\n",
              "\n",
              "// This is roughly an async generator (not supported in the browser yet),\n",
              "// where there are multiple asynchronous steps and the Python side is going\n",
              "// to poll for completion of each step.\n",
              "// This uses a Promise to block the python side on completion of each step,\n",
              "// then passes the result of the previous step as the input to the next step.\n",
              "function _uploadFilesContinue(outputId) {\n",
              "  const outputElement = document.getElementById(outputId);\n",
              "  const steps = outputElement.steps;\n",
              "\n",
              "  const next = steps.next(outputElement.lastPromiseValue);\n",
              "  return Promise.resolve(next.value.promise).then((value) => {\n",
              "    // Cache the last promise value to make it available to the next\n",
              "    // step of the generator.\n",
              "    outputElement.lastPromiseValue = value;\n",
              "    return next.value.response;\n",
              "  });\n",
              "}\n",
              "\n",
              "/**\n",
              " * Generator function which is called between each async step of the upload\n",
              " * process.\n",
              " * @param {string} inputId Element ID of the input file picker element.\n",
              " * @param {string} outputId Element ID of the output display.\n",
              " * @return {!Iterable<!Object>} Iterable of next steps.\n",
              " */\n",
              "function* uploadFilesStep(inputId, outputId) {\n",
              "  const inputElement = document.getElementById(inputId);\n",
              "  inputElement.disabled = false;\n",
              "\n",
              "  const outputElement = document.getElementById(outputId);\n",
              "  outputElement.innerHTML = '';\n",
              "\n",
              "  const pickedPromise = new Promise((resolve) => {\n",
              "    inputElement.addEventListener('change', (e) => {\n",
              "      resolve(e.target.files);\n",
              "    });\n",
              "  });\n",
              "\n",
              "  const cancel = document.createElement('button');\n",
              "  inputElement.parentElement.appendChild(cancel);\n",
              "  cancel.textContent = 'Cancel upload';\n",
              "  const cancelPromise = new Promise((resolve) => {\n",
              "    cancel.onclick = () => {\n",
              "      resolve(null);\n",
              "    };\n",
              "  });\n",
              "\n",
              "  // Wait for the user to pick the files.\n",
              "  const files = yield {\n",
              "    promise: Promise.race([pickedPromise, cancelPromise]),\n",
              "    response: {\n",
              "      action: 'starting',\n",
              "    }\n",
              "  };\n",
              "\n",
              "  cancel.remove();\n",
              "\n",
              "  // Disable the input element since further picks are not allowed.\n",
              "  inputElement.disabled = true;\n",
              "\n",
              "  if (!files) {\n",
              "    return {\n",
              "      response: {\n",
              "        action: 'complete',\n",
              "      }\n",
              "    };\n",
              "  }\n",
              "\n",
              "  for (const file of files) {\n",
              "    const li = document.createElement('li');\n",
              "    li.append(span(file.name, {fontWeight: 'bold'}));\n",
              "    li.append(span(\n",
              "        `(${file.type || 'n/a'}) - ${file.size} bytes, ` +\n",
              "        `last modified: ${\n",
              "            file.lastModifiedDate ? file.lastModifiedDate.toLocaleDateString() :\n",
              "                                    'n/a'} - `));\n",
              "    const percent = span('0% done');\n",
              "    li.appendChild(percent);\n",
              "\n",
              "    outputElement.appendChild(li);\n",
              "\n",
              "    const fileDataPromise = new Promise((resolve) => {\n",
              "      const reader = new FileReader();\n",
              "      reader.onload = (e) => {\n",
              "        resolve(e.target.result);\n",
              "      };\n",
              "      reader.readAsArrayBuffer(file);\n",
              "    });\n",
              "    // Wait for the data to be ready.\n",
              "    let fileData = yield {\n",
              "      promise: fileDataPromise,\n",
              "      response: {\n",
              "        action: 'continue',\n",
              "      }\n",
              "    };\n",
              "\n",
              "    // Use a chunked sending to avoid message size limits. See b/62115660.\n",
              "    let position = 0;\n",
              "    do {\n",
              "      const length = Math.min(fileData.byteLength - position, MAX_PAYLOAD_SIZE);\n",
              "      const chunk = new Uint8Array(fileData, position, length);\n",
              "      position += length;\n",
              "\n",
              "      const base64 = btoa(String.fromCharCode.apply(null, chunk));\n",
              "      yield {\n",
              "        response: {\n",
              "          action: 'append',\n",
              "          file: file.name,\n",
              "          data: base64,\n",
              "        },\n",
              "      };\n",
              "\n",
              "      let percentDone = fileData.byteLength === 0 ?\n",
              "          100 :\n",
              "          Math.round((position / fileData.byteLength) * 100);\n",
              "      percent.textContent = `${percentDone}% done`;\n",
              "\n",
              "    } while (position < fileData.byteLength);\n",
              "  }\n",
              "\n",
              "  // All done.\n",
              "  yield {\n",
              "    response: {\n",
              "      action: 'complete',\n",
              "    }\n",
              "  };\n",
              "}\n",
              "\n",
              "scope.google = scope.google || {};\n",
              "scope.google.colab = scope.google.colab || {};\n",
              "scope.google.colab._files = {\n",
              "  _uploadFiles,\n",
              "  _uploadFilesContinue,\n",
              "};\n",
              "})(self);\n",
              "</script> "
            ]
          },
          "metadata": {}
        },
        {
          "output_type": "stream",
          "name": "stdout",
          "text": [
            "   X1  X2  X3  X4\n",
            "0   4   4   4   9\n",
            "1   8   8   1   5\n",
            "2   8   4   7   3\n"
          ]
        }
      ]
    },
    {
      "cell_type": "code",
      "source": [
        "weights = list()\n",
        "for i in weight_coefficients:\n",
        "  weights.append(weight_coefficients[i].to_list()[0])"
      ],
      "metadata": {
        "id": "v1bU5mA8qRPd"
      },
      "execution_count": 12,
      "outputs": []
    },
    {
      "cell_type": "code",
      "source": [
        "arr = list()\n",
        "mas = list()\n",
        "indices = list()\n",
        "a = list()\n",
        "for j in range(len(posterior_data)):\n",
        "  for i in posterior_col_keys:\n",
        "    arr.append(posterior_data[i][j])\n",
        "  for k in range(len(center_coords)):\n",
        "    a = list(map(lambda x, y: pow(x - y, 2), arr, center_coords[k]))\n",
        "    for i in range(len(a)):\n",
        "      a[i] = a[i] * weights[i]; #учитываем весовые коэффициенты\n",
        "    mas.append(sum(a))\n",
        "    a = list()\n",
        "  indices.append([index for index, val in enumerate(mas) if val == min(mas)])\n",
        "  mas = list()\n",
        "  arr = list()\n",
        "\n",
        "count = 0\n",
        "if class_names:\n",
        "  for i in indices:\n",
        "    print(rows[count] + 1, '∈', class_names[i[0]], end=\", \")\n",
        "    count += 1\n",
        "else:\n",
        "  print(indices)"
      ],
      "metadata": {
        "colab": {
          "base_uri": "https://localhost:8080/"
        },
        "id": "e9gOd9PTqrd5",
        "outputId": "6f2aff5d-b77c-4d5d-d615-8acac4ac33dd"
      },
      "execution_count": 13,
      "outputs": [
        {
          "output_type": "stream",
          "name": "stdout",
          "text": [
            "1 ∈ C, 2 ∈ B, 3 ∈ A, "
          ]
        }
      ]
    },
    {
      "cell_type": "markdown",
      "source": [
        "Классификация по скалярному произведению"
      ],
      "metadata": {
        "id": "NQZBveaQatDl"
      }
    },
    {
      "cell_type": "code",
      "source": [
        "arr = list()\n",
        "mas = list()\n",
        "indices = list()\n",
        "for j in range(len(posterior_data)):\n",
        "  for i in posterior_col_keys:\n",
        "    arr.append(posterior_data[i][j])\n",
        "  for k in range(len(center_coords)):\n",
        "    mas.append(sum(list(map(lambda x, y: x * y, arr, center_coords[k]))))\n",
        "  indices.append([index for index, val in enumerate(mas) if val == max(mas)]) #максимальные элементы\n",
        "  mas = list()\n",
        "  arr = list()\n",
        "\n",
        "count = 0\n",
        "if class_names:\n",
        "  for i in indices:\n",
        "    print(rows[count] + 1, '∈', class_names[i[0]], end=\", \")\n",
        "    count += 1\n",
        "else:\n",
        "  print(indices)"
      ],
      "metadata": {
        "colab": {
          "base_uri": "https://localhost:8080/"
        },
        "id": "HpZhZXb_UOfk",
        "outputId": "b25da3b6-0738-486a-a4bb-2a5738b2f3ed"
      },
      "execution_count": 14,
      "outputs": [
        {
          "output_type": "stream",
          "name": "stdout",
          "text": [
            "1 ∈ C, 2 ∈ B, 3 ∈ A, "
          ]
        }
      ]
    },
    {
      "cell_type": "markdown",
      "source": [
        "Классификация с использованием корреляционного метода"
      ],
      "metadata": {
        "id": "TB9ywjmaaVUx"
      }
    },
    {
      "cell_type": "code",
      "source": [
        "arr = list()\n",
        "mas = list()\n",
        "indices = list()\n",
        "for j in range(len(posterior_data)):\n",
        "  for i in posterior_col_keys:\n",
        "    arr.append(posterior_data[i][j])\n",
        "  for k in range(len(center_coords)):\n",
        "    scalar_product = sum(list(map(lambda x, y: x * y, arr, center_coords[k]))) #вычисляем скалярное произведение\n",
        "    mas.append(scalar_product - sum(center_coords[k]) * sum(arr) / len(center_coords[k])) #ф-ла корреляционного метода\n",
        "  indices.append([index for index, val in enumerate(mas) if val == max(mas)]) #максимальные элементы\n",
        "  mas = list()\n",
        "  arr = list()\n",
        "\n",
        "count = 0\n",
        "if class_names:\n",
        "  for i in indices:\n",
        "    print(rows[count] + 1, '∈', class_names[i[0]], end=\", \")\n",
        "    count += 1\n",
        "else:\n",
        "  print(indices)"
      ],
      "metadata": {
        "colab": {
          "base_uri": "https://localhost:8080/"
        },
        "id": "YyLQlRM7XXp0",
        "outputId": "6b4e1956-927f-4a37-f998-f8a6fc4e82e1"
      },
      "execution_count": 15,
      "outputs": [
        {
          "output_type": "stream",
          "name": "stdout",
          "text": [
            "1 ∈ C, 2 ∈ B, 3 ∈ A, "
          ]
        }
      ]
    },
    {
      "cell_type": "markdown",
      "source": [
        "Классификация по углу между векторами объекта и центра тяжести классов"
      ],
      "metadata": {
        "id": "BnNSu_iMa2oD"
      }
    },
    {
      "cell_type": "code",
      "source": [
        "arr = list()\n",
        "mas = list()\n",
        "indices = list()\n",
        "for j in range(len(posterior_data)):\n",
        "  for i in posterior_col_keys:\n",
        "    arr.append(posterior_data[i][j])\n",
        "  for k in range(len(center_coords)):\n",
        "    scalar_product = sum(list(map(lambda x, y: x * y, arr, center_coords[k]))) #вычисляем скалярное произведение\n",
        "    mas.append(scalar_product / (pow(sum(map(lambda x: x * x, center_coords[k])), 1/2) * pow(sum(map(lambda x: x * x, arr)), 1/2))) #вычисляем косинус\n",
        "  indices.append([index for index, val in enumerate(mas) if val == max(mas)]) #максимальные элементы\n",
        "  mas = list()\n",
        "  arr = list()\n",
        "\n",
        "count = 0\n",
        "if class_names:\n",
        "  for i in indices:\n",
        "    print(rows[count] + 1, '∈', class_names[i[0]], end=\", \")\n",
        "    count += 1\n",
        "else:\n",
        "  print(indices)"
      ],
      "metadata": {
        "colab": {
          "base_uri": "https://localhost:8080/"
        },
        "id": "xj5zPANTaUrH",
        "outputId": "38c58d53-4100-48ad-ea34-0b9eaba9290c"
      },
      "execution_count": 16,
      "outputs": [
        {
          "output_type": "stream",
          "name": "stdout",
          "text": [
            "1 ∈ C, 2 ∈ B, 3 ∈ A, "
          ]
        }
      ]
    }
  ]
}